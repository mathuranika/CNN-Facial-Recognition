{
 "cells": [
  {
   "cell_type": "markdown",
   "id": "1a7c1943",
   "metadata": {},
   "source": [
    "##  1. Imports"
   ]
  },
  {
   "cell_type": "code",
   "execution_count": 50,
   "id": "645a3fc1",
   "metadata": {},
   "outputs": [],
   "source": [
    "import cv2\n",
    "import mediapipe as mp\n",
    "import os"
   ]
  },
  {
   "cell_type": "markdown",
   "id": "bf13f48f",
   "metadata": {},
   "source": [
    "## 2. Face Tracking"
   ]
  },
  {
   "cell_type": "code",
   "execution_count": 51,
   "id": "9e15a037",
   "metadata": {},
   "outputs": [],
   "source": [
    "mp_face_detection = mp.solutions.face_detection\n",
    "mp_drawing = mp.solutions.drawing_utils"
   ]
  },
  {
   "cell_type": "code",
   "execution_count": 52,
   "id": "277928df",
   "metadata": {},
   "outputs": [],
   "source": [
    "video_path = 'test.mov'  \n",
    "cap = cv2.VideoCapture(video_path)"
   ]
  },
  {
   "cell_type": "code",
   "execution_count": 53,
   "id": "478428b4",
   "metadata": {},
   "outputs": [],
   "source": [
    "# Get video properties\n",
    "width  = int(cap.get(cv2.CAP_PROP_FRAME_WIDTH))\n",
    "height = int(cap.get(cv2.CAP_PROP_FRAME_HEIGHT))\n",
    "fps    = cap.get(cv2.CAP_PROP_FPS)"
   ]
  },
  {
   "cell_type": "code",
   "execution_count": 54,
   "id": "0e98b95d",
   "metadata": {},
   "outputs": [
    {
     "data": {
      "text/plain": [
       "(2238, 1294, 59.918809201623816)"
      ]
     },
     "execution_count": 54,
     "metadata": {},
     "output_type": "execute_result"
    }
   ],
   "source": [
    "width, height, fps"
   ]
  },
  {
   "cell_type": "code",
   "execution_count": 55,
   "id": "edf6afff",
   "metadata": {},
   "outputs": [],
   "source": [
    "out = cv2.VideoWriter('output_video.mp4', \n",
    "                      cv2.VideoWriter_fourcc(*'mp4v'), \n",
    "                      fps, (width, height))\n"
   ]
  },
  {
   "cell_type": "code",
   "execution_count": 56,
   "id": "6bfbacb6",
   "metadata": {},
   "outputs": [
    {
     "name": "stderr",
     "output_type": "stream",
     "text": [
      "I0000 00:00:1748605745.326279 5252182 gl_context.cc:369] GL version: 2.1 (2.1 Metal - 88.1), renderer: Apple M3\n",
      "W0000 00:00:1748605745.373845 5450026 inference_feedback_manager.cc:114] Feedback manager requires a model with a single signature inference. Disabling support for feedback tensors.\n"
     ]
    }
   ],
   "source": [
    "# Face Tracking Loop\n",
    "with mp_face_detection.FaceDetection(model_selection=1, min_detection_confidence=0.5) as face_detection:\n",
    "    while cap.isOpened():\n",
    "        ret, frame = cap.read()\n",
    "        if not ret:\n",
    "            break\n",
    "\n",
    "        # Convert BGR to RGB\n",
    "        image = cv2.cvtColor(frame, cv2.COLOR_BGR2RGB)\n",
    "\n",
    "        # Detect faces\n",
    "        results = face_detection.process(image)\n",
    "\n",
    "        # Draw bounding boxes\n",
    "        if results.detections:\n",
    "            for detection in results.detections:\n",
    "                mp_drawing.draw_detection(frame, detection)\n",
    "\n",
    "        # Write the output frame\n",
    "        out.write(frame)\n"
   ]
  },
  {
   "cell_type": "markdown",
   "id": "72efded2",
   "metadata": {},
   "source": [
    "## 3. Data Preprocessing"
   ]
  },
  {
   "cell_type": "code",
   "execution_count": 57,
   "id": "0d5dad8c",
   "metadata": {},
   "outputs": [],
   "source": [
    "from PIL import Image\n"
   ]
  },
  {
   "cell_type": "code",
   "execution_count": 58,
   "id": "1e2e9d0d",
   "metadata": {},
   "outputs": [],
   "source": [
    "# Input and output directories\n",
    "input_root = 'IMFDB_final'\n",
    "output_root = 'IMFDB_resized'\n",
    "target_size = (112, 112)"
   ]
  },
  {
   "cell_type": "code",
   "execution_count": 61,
   "id": "c2e5cd54",
   "metadata": {},
   "outputs": [
    {
     "name": "stdout",
     "output_type": "stream",
     "text": [
      "Resizing complete. Images saved to 'IMFDB_resized'\n"
     ]
    }
   ],
   "source": [
    "# Resize images\n",
    "for actor in os.listdir(input_root):\n",
    "    actor_path = os.path.join(input_root, actor)\n",
    "    if not os.path.isdir(actor_path):\n",
    "        continue\n",
    "\n",
    "    for movie in os.listdir(actor_path):\n",
    "        movie_path = os.path.join(actor_path, movie)\n",
    "        if not os.path.isdir(movie_path):\n",
    "            continue\n",
    "\n",
    "        output_movie_path = os.path.join(output_root, actor, movie)\n",
    "        os.makedirs(output_movie_path, exist_ok=True)\n",
    "\n",
    "        for img_file in os.listdir(movie_path):\n",
    "            if img_file.lower().endswith(('.jpg')):\n",
    "                input_img_path = os.path.join(movie_path, img_file)\n",
    "                output_img_path = os.path.join(output_movie_path, img_file)\n",
    "\n",
    "                try:\n",
    "                    img = Image.open(input_img_path).convert('RGB')\n",
    "                    img = img.resize(target_size, Image.LANCZOS)\n",
    "                    img.save(output_img_path, format=\"JPEG\", quality=95, optimize=True)\n",
    "                except Exception as e:\n",
    "                    print(f\"Error processing {input_img_path}: {e}\")\n",
    "\n",
    "print(\"Resizing complete. Images saved to 'IMFDB_resized'\")\n"
   ]
  },
  {
   "cell_type": "markdown",
   "id": "f96e67e8",
   "metadata": {},
   "source": [
    "## 4. Separating data into training and testing sets\n"
   ]
  },
  {
   "cell_type": "code",
   "execution_count": 62,
   "id": "9b279c8b",
   "metadata": {},
   "outputs": [],
   "source": [
    "import shutil\n",
    "import random\n",
    "from pathlib import Path"
   ]
  },
  {
   "cell_type": "code",
   "execution_count": 66,
   "id": "981c56f3",
   "metadata": {},
   "outputs": [],
   "source": [
    "# Source and target directories\n",
    "SOURCE_DIR = 'IMFDB_resized'\n",
    "TARGET_DIR = 'IMFDB_split'\n",
    "TRAIN_SPLIT = 0.8"
   ]
  },
  {
   "cell_type": "code",
   "execution_count": 63,
   "id": "80084874",
   "metadata": {},
   "outputs": [],
   "source": [
    "# Set random seed for reproducibility\n",
    "random.seed(42)"
   ]
  },
  {
   "cell_type": "code",
   "execution_count": 67,
   "id": "5a665bbb",
   "metadata": {},
   "outputs": [],
   "source": [
    "# Create target train/test directories\n",
    "for split in ['train', 'test']:\n",
    "    split_dir = Path(TARGET_DIR) / split\n",
    "    split_dir.mkdir(parents=True, exist_ok=True)"
   ]
  },
  {
   "cell_type": "code",
   "execution_count": 68,
   "id": "5a3fa2b3",
   "metadata": {},
   "outputs": [
    {
     "name": "stdout",
     "output_type": "stream",
     "text": [
      "Dataset split complete.\n"
     ]
    }
   ],
   "source": [
    "# Loop through each class\n",
    "for actor_dir in Path(SOURCE_DIR).iterdir():\n",
    "    if actor_dir.is_dir():\n",
    "        all_images = list(actor_dir.rglob('*.jpg'))  # You can add .png if needed\n",
    "        random.shuffle(all_images)\n",
    "        \n",
    "        split_index = int(len(all_images) * TRAIN_SPLIT)\n",
    "        train_images = all_images[:split_index]\n",
    "        test_images = all_images[split_index:]\n",
    "        \n",
    "        # Helper to copy files\n",
    "        def copy_files(image_list, split):\n",
    "            split_actor_dir = Path(TARGET_DIR) / split / actor_dir.name\n",
    "            split_actor_dir.mkdir(parents=True, exist_ok=True)\n",
    "            for img_path in image_list:\n",
    "                target_path = split_actor_dir / img_path.name\n",
    "                shutil.copy(img_path, target_path)\n",
    "\n",
    "        copy_files(train_images, 'train')\n",
    "        copy_files(test_images, 'test')\n",
    "\n",
    "print(\"Dataset split complete.\")\n"
   ]
  },
  {
   "cell_type": "markdown",
   "id": "ada02ca1",
   "metadata": {},
   "source": [
    "## 5. Creating and training a CNN based model"
   ]
  },
  {
   "cell_type": "code",
   "execution_count": 78,
   "id": "8c1cec20",
   "metadata": {},
   "outputs": [],
   "source": [
    "import torch\n",
    "import torch.nn as nn\n",
    "import torch.optim as optim\n",
    "from torchvision import datasets, transforms, models\n",
    "from torch.utils.data import DataLoader\n",
    "import matplotlib.pyplot as plt\n",
    "import os\n"
   ]
  },
  {
   "cell_type": "code",
   "execution_count": 79,
   "id": "88775f78",
   "metadata": {},
   "outputs": [],
   "source": [
    "# Paths\n",
    "train_dir = 'IMFDB_split/train'\n",
    "test_dir = 'IMFDB_split/test'\n"
   ]
  },
  {
   "cell_type": "code",
   "execution_count": 80,
   "id": "3a3319e9",
   "metadata": {},
   "outputs": [],
   "source": [
    "# Hyperparameters\n",
    "batch_size = 32\n",
    "num_epochs = 10\n",
    "lr = 0.001\n",
    "image_size = 112\n",
    "num_classes = 6"
   ]
  },
  {
   "cell_type": "code",
   "execution_count": 81,
   "id": "938c0a4a",
   "metadata": {},
   "outputs": [
    {
     "data": {
      "text/plain": [
       "device(type='cpu')"
      ]
     },
     "execution_count": 81,
     "metadata": {},
     "output_type": "execute_result"
    }
   ],
   "source": [
    "# Device\n",
    "device = torch.device(\"cuda\" if torch.cuda.is_available() else \"cpu\")\n",
    "device"
   ]
  },
  {
   "cell_type": "code",
   "execution_count": 82,
   "id": "0a0541a7",
   "metadata": {},
   "outputs": [],
   "source": [
    "# Data transforms\n",
    "transform = transforms.Compose([\n",
    "    transforms.Resize((image_size, image_size)),\n",
    "    transforms.ToTensor(),\n",
    "    transforms.Normalize([0.5], [0.5])  # Assuming grayscale or single-channel\n",
    "])"
   ]
  },
  {
   "cell_type": "code",
   "execution_count": 83,
   "id": "1a57b217",
   "metadata": {},
   "outputs": [],
   "source": [
    "# Datasets and loaders\n",
    "train_dataset = datasets.ImageFolder(train_dir, transform=transform)\n",
    "test_dataset = datasets.ImageFolder(test_dir, transform=transform)\n",
    "\n",
    "train_loader = DataLoader(train_dataset, batch_size=batch_size, shuffle=True)\n",
    "test_loader = DataLoader(test_dataset, batch_size=batch_size)\n"
   ]
  },
  {
   "cell_type": "code",
   "execution_count": 84,
   "id": "d5fd5bdf",
   "metadata": {},
   "outputs": [
    {
     "name": "stdout",
     "output_type": "stream",
     "text": [
      "Label Mapping: {'AmitabhBachchan': 0, 'HrithikRoshan': 1, 'JayaBhaduri': 2, 'Kajol': 3, 'KareenaKapoor': 4, 'SharukhKhan': 5}\n"
     ]
    }
   ],
   "source": [
    "# Label mapping\n",
    "label_map = train_dataset.class_to_idx\n",
    "print(\"Label Mapping:\", label_map)"
   ]
  },
  {
   "cell_type": "code",
   "execution_count": 85,
   "id": "b60d5a4c",
   "metadata": {},
   "outputs": [],
   "source": [
    "# CNN Model\n",
    "class FaceCNN(nn.Module):\n",
    "    def __init__(self, num_classes):\n",
    "        super(FaceCNN, self).__init__()\n",
    "        self.conv = nn.Sequential(\n",
    "            nn.Conv2d(3, 32, kernel_size=3, padding=1),  # If images are RGB\n",
    "            nn.ReLU(),\n",
    "            nn.MaxPool2d(2, 2),  # 56x56\n",
    "\n",
    "            nn.Conv2d(32, 64, kernel_size=3, padding=1),\n",
    "            nn.ReLU(),\n",
    "            nn.MaxPool2d(2, 2),  # 28x28\n",
    "\n",
    "            nn.Conv2d(64, 128, kernel_size=3, padding=1),\n",
    "            nn.ReLU(),\n",
    "            nn.MaxPool2d(2, 2),  # 14x14\n",
    "        )\n",
    "        self.fc = nn.Sequential(\n",
    "            nn.Flatten(),\n",
    "            nn.Linear(128 * 14 * 14, 256),\n",
    "            nn.ReLU(),\n",
    "            nn.Dropout(0.5),\n",
    "            nn.Linear(256, num_classes)\n",
    "        )\n",
    "\n",
    "    def forward(self, x):\n",
    "        x = self.conv(x)\n",
    "        x = self.fc(x)\n",
    "        return x"
   ]
  },
  {
   "cell_type": "code",
   "execution_count": 86,
   "id": "c2c36045",
   "metadata": {},
   "outputs": [],
   "source": [
    "# Instantiate model\n",
    "model = FaceCNN(num_classes).to(device)\n",
    "\n",
    "# Loss and optimizer\n",
    "criterion = nn.CrossEntropyLoss()\n",
    "optimizer = optim.Adam(model.parameters(), lr=lr)"
   ]
  },
  {
   "cell_type": "code",
   "execution_count": 87,
   "id": "d264cf90",
   "metadata": {},
   "outputs": [
    {
     "name": "stdout",
     "output_type": "stream",
     "text": [
      "Epoch [1/10], Loss: 1.5993\n",
      "Epoch [2/10], Loss: 1.1409\n",
      "Epoch [3/10], Loss: 0.8671\n",
      "Epoch [4/10], Loss: 0.7194\n",
      "Epoch [5/10], Loss: 0.5430\n",
      "Epoch [6/10], Loss: 0.4670\n",
      "Epoch [7/10], Loss: 0.3951\n",
      "Epoch [8/10], Loss: 0.2842\n",
      "Epoch [9/10], Loss: 0.2192\n",
      "Epoch [10/10], Loss: 0.2080\n"
     ]
    }
   ],
   "source": [
    "# Training loop\n",
    "train_losses = []\n",
    "for epoch in range(num_epochs):\n",
    "    model.train()\n",
    "    running_loss = 0.0\n",
    "    for images, labels in train_loader:\n",
    "        images, labels = images.to(device), labels.to(device)\n",
    "\n",
    "        outputs = model(images)\n",
    "        loss = criterion(outputs, labels)\n",
    "\n",
    "        optimizer.zero_grad()\n",
    "        loss.backward()\n",
    "        optimizer.step()\n",
    "\n",
    "        running_loss += loss.item()\n",
    "\n",
    "    avg_loss = running_loss / len(train_loader)\n",
    "    train_losses.append(avg_loss)\n",
    "    print(f\"Epoch [{epoch+1}/{num_epochs}], Loss: {avg_loss:.4f}\")"
   ]
  },
  {
   "cell_type": "code",
   "execution_count": 90,
   "id": "9199431a",
   "metadata": {},
   "outputs": [
    {
     "name": "stdout",
     "output_type": "stream",
     "text": [
      "Test Accuracy: 74.77%\n"
     ]
    }
   ],
   "source": [
    "# Evaluation\n",
    "model.eval()\n",
    "correct = total = 0\n",
    "with torch.no_grad():\n",
    "    for images, labels in test_loader:\n",
    "        images, labels = images.to(device), labels.to(device)\n",
    "        outputs = model(images)\n",
    "        _, predicted = torch.max(outputs, 1)\n",
    "        total += labels.size(0)\n",
    "        correct += (predicted == labels).sum().item()\n",
    "\n",
    "print(f\"Test Accuracy: {100 * correct / total:.2f}%\")"
   ]
  },
  {
   "cell_type": "code",
   "execution_count": 91,
   "id": "a0b820dc",
   "metadata": {},
   "outputs": [
    {
     "name": "stdout",
     "output_type": "stream",
     "text": [
      "Model saved as face_recognition_model.pth\n"
     ]
    }
   ],
   "source": [
    "# Save the model\n",
    "torch.jit.script(model).save(\"face_recognition_model.pt\")\n",
    "print(\"Model saved as face_recognition_model.pth\")\n"
   ]
  }
 ],
 "metadata": {
  "kernelspec": {
   "display_name": "face_tracking_env",
   "language": "python",
   "name": "python3"
  },
  "language_info": {
   "codemirror_mode": {
    "name": "ipython",
    "version": 3
   },
   "file_extension": ".py",
   "mimetype": "text/x-python",
   "name": "python",
   "nbconvert_exporter": "python",
   "pygments_lexer": "ipython3",
   "version": "3.10.16"
  }
 },
 "nbformat": 4,
 "nbformat_minor": 5
}
